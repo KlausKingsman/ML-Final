{
 "cells": [
  {
   "cell_type": "code",
   "execution_count": 69,
   "metadata": {},
   "outputs": [],
   "source": [
    "\n",
    "import pandas as pd\n",
    "from sklearn.model_selection import train_test_split\n",
    "from sklearn.ensemble import AdaBoostClassifier\n",
    "from sklearn.metrics import accuracy_score\n",
    "from sklearn.preprocessing import LabelEncoder\n",
    "from sklearn.metrics import accuracy_score, precision_score, recall_score, f1_score"
   ]
  },
  {
   "cell_type": "code",
   "execution_count": 70,
   "metadata": {},
   "outputs": [],
   "source": [
    "# data\n",
    "data_filepath = '../datasets/Obfuscated/Obfuscated-MalMem2022_edited.csv'\n",
    "data= pd.read_csv(data_filepath)"
   ]
  },
  {
   "cell_type": "code",
   "execution_count": 71,
   "metadata": {},
   "outputs": [
    {
     "name": "stdout",
     "output_type": "stream",
     "text": [
      "<class 'pandas.core.frame.DataFrame'>\n",
      "RangeIndex: 58596 entries, 0 to 58595\n",
      "Data columns (total 57 columns):\n",
      " #   Column                                  Non-Null Count  Dtype  \n",
      "---  ------                                  --------------  -----  \n",
      " 0   Category                                58596 non-null  object \n",
      " 1   pslist.nproc                            58596 non-null  int64  \n",
      " 2   pslist.nppid                            58596 non-null  int64  \n",
      " 3   pslist.avg_threads                      58596 non-null  float64\n",
      " 4   pslist.nprocs64bit                      58596 non-null  int64  \n",
      " 5   pslist.avg_handlers                     58596 non-null  float64\n",
      " 6   dlllist.ndlls                           58596 non-null  int64  \n",
      " 7   dlllist.avg_dlls_per_proc               58596 non-null  float64\n",
      " 8   handles.nhandles                        58596 non-null  int64  \n",
      " 9   handles.avg_handles_per_proc            58596 non-null  float64\n",
      " 10  handles.nport                           58596 non-null  int64  \n",
      " 11  handles.nfile                           58596 non-null  int64  \n",
      " 12  handles.nevent                          58596 non-null  int64  \n",
      " 13  handles.ndesktop                        58596 non-null  int64  \n",
      " 14  handles.nkey                            58596 non-null  int64  \n",
      " 15  handles.nthread                         58596 non-null  int64  \n",
      " 16  handles.ndirectory                      58596 non-null  int64  \n",
      " 17  handles.nsemaphore                      58596 non-null  int64  \n",
      " 18  handles.ntimer                          58596 non-null  int64  \n",
      " 19  handles.nsection                        58596 non-null  int64  \n",
      " 20  handles.nmutant                         58596 non-null  int64  \n",
      " 21  ldrmodules.not_in_load                  58596 non-null  int64  \n",
      " 22  ldrmodules.not_in_init                  58596 non-null  int64  \n",
      " 23  ldrmodules.not_in_mem                   58596 non-null  int64  \n",
      " 24  ldrmodules.not_in_load_avg              58596 non-null  float64\n",
      " 25  ldrmodules.not_in_init_avg              58596 non-null  float64\n",
      " 26  ldrmodules.not_in_mem_avg               58596 non-null  float64\n",
      " 27  malfind.ninjections                     58596 non-null  int64  \n",
      " 28  malfind.commitCharge                    58596 non-null  int64  \n",
      " 29  malfind.protection                      58596 non-null  int64  \n",
      " 30  malfind.uniqueInjections                58596 non-null  float64\n",
      " 31  psxview.not_in_pslist                   58596 non-null  int64  \n",
      " 32  psxview.not_in_eprocess_pool            58596 non-null  int64  \n",
      " 33  psxview.not_in_ethread_pool             58596 non-null  int64  \n",
      " 34  psxview.not_in_pspcid_list              58596 non-null  int64  \n",
      " 35  psxview.not_in_csrss_handles            58596 non-null  int64  \n",
      " 36  psxview.not_in_session                  58596 non-null  int64  \n",
      " 37  psxview.not_in_deskthrd                 58596 non-null  int64  \n",
      " 38  psxview.not_in_pslist_false_avg         58596 non-null  float64\n",
      " 39  psxview.not_in_eprocess_pool_false_avg  58596 non-null  float64\n",
      " 40  psxview.not_in_ethread_pool_false_avg   58596 non-null  float64\n",
      " 41  psxview.not_in_pspcid_list_false_avg    58596 non-null  float64\n",
      " 42  psxview.not_in_csrss_handles_false_avg  58596 non-null  float64\n",
      " 43  psxview.not_in_session_false_avg        58596 non-null  float64\n",
      " 44  psxview.not_in_deskthrd_false_avg       58596 non-null  float64\n",
      " 45  modules.nmodules                        58596 non-null  int64  \n",
      " 46  svcscan.nservices                       58596 non-null  int64  \n",
      " 47  svcscan.kernel_drivers                  58596 non-null  int64  \n",
      " 48  svcscan.fs_drivers                      58596 non-null  int64  \n",
      " 49  svcscan.process_services                58596 non-null  int64  \n",
      " 50  svcscan.shared_process_services         58596 non-null  int64  \n",
      " 51  svcscan.interactive_process_services    58596 non-null  int64  \n",
      " 52  svcscan.nactive                         58596 non-null  int64  \n",
      " 53  callbacks.ncallbacks                    58596 non-null  int64  \n",
      " 54  callbacks.nanonymous                    58596 non-null  int64  \n",
      " 55  callbacks.ngeneric                      58596 non-null  int64  \n",
      " 56  Class                                   58596 non-null  object \n",
      "dtypes: float64(15), int64(40), object(2)\n",
      "memory usage: 25.5+ MB\n"
     ]
    }
   ],
   "source": [
    "data.info()"
   ]
  },
  {
   "cell_type": "code",
   "execution_count": 72,
   "metadata": {},
   "outputs": [],
   "source": [
    "# Preprocess data\n",
    "X_drop_columns = ['Class', \n",
    "                'Category', \n",
    "                'svcscan.interactive_process_services', \n",
    "                'handles.nport', \n",
    "                'modules.nmodules',\n",
    "                'pslist.nprocs64bit', \n",
    "                'callbacks.ngeneric']\n",
    "X = data.drop(columns=X_drop_columns)\n",
    "y = data['Category']"
   ]
  },
  {
   "cell_type": "code",
   "execution_count": 73,
   "metadata": {},
   "outputs": [
    {
     "name": "stdout",
     "output_type": "stream",
     "text": [
      "Total classes: 4\n"
     ]
    }
   ],
   "source": [
    "total_classes = y.nunique()\n",
    "print(\"Total classes: %s\"%total_classes)"
   ]
  },
  {
   "cell_type": "code",
   "execution_count": 74,
   "metadata": {},
   "outputs": [
    {
     "name": "stdout",
     "output_type": "stream",
     "text": [
      "Category\n",
      "Benign        29298\n",
      "Spyware       10020\n",
      "Ransomware     9791\n",
      "Trojan         9487\n",
      "Name: count, dtype: int64\n"
     ]
    }
   ],
   "source": [
    "distribution = y.value_counts() \n",
    "print(distribution)"
   ]
  },
  {
   "cell_type": "code",
   "execution_count": 75,
   "metadata": {},
   "outputs": [
    {
     "name": "stdout",
     "output_type": "stream",
     "text": [
      "       pslist.nproc  pslist.nppid  pslist.avg_threads  pslist.avg_handlers  \\\n",
      "0                24             9                1770                 3444   \n",
      "1                26            11                6889                 7784   \n",
      "2                19             6               27643                21343   \n",
      "3                11             5               24478                13129   \n",
      "4                21             8                6506                17205   \n",
      "...             ...           ...                 ...                  ...   \n",
      "58591            16             7                1011                 6567   \n",
      "58592            16             6                 898                 1315   \n",
      "58593            17             7                 828                 5315   \n",
      "58594            16             7                1183                 6574   \n",
      "58595            17             7                 848                 6001   \n",
      "\n",
      "       dlllist.ndlls  dlllist.avg_dlls_per_proc  handles.nhandles  \\\n",
      "0                643                       1631              2939   \n",
      "1               1022                       4151              4473   \n",
      "2                880                       8805              4598   \n",
      "3                394                       5476              2267   \n",
      "4               1015                      10175              4882   \n",
      "...              ...                        ...               ...   \n",
      "58591            402                       1942              1783   \n",
      "58592            300                        736              1114   \n",
      "58593            397                       1448              1792   \n",
      "58594            401                       1932              1784   \n",
      "58595            436                       1879              1905   \n",
      "\n",
      "       handles.avg_handles_per_proc  handles.nfile  handles.nevent  ...  \\\n",
      "0                              4943            221            1295  ...   \n",
      "1                              7194            387            1770  ...   \n",
      "2                             20118            597            2004  ...   \n",
      "3                             11743            181            1095  ...   \n",
      "4                             16153            455            1843  ...   \n",
      "...                             ...            ...             ...  ...   \n",
      "58591                          5787            181             953  ...   \n",
      "58592                           909            154             573  ...   \n",
      "58593                          5848            175             950  ...   \n",
      "58594                          5797            183             953  ...   \n",
      "58595                          5109            188             977  ...   \n",
      "\n",
      "       psxview.not_in_session_false_avg  psxview.not_in_deskthrd_false_avg  \\\n",
      "0                                  6966                               7622   \n",
      "1                                   675                                925   \n",
      "2                                  2737                                791   \n",
      "3                                  4599                               7384   \n",
      "4                                  8727                               8608   \n",
      "...                                 ...                                ...   \n",
      "58591                              6554                               7171   \n",
      "58592                              3428                               4984   \n",
      "58593                              7776                               8854   \n",
      "58594                              3428                               4984   \n",
      "58595                              8497                               8674   \n",
      "\n",
      "       svcscan.nservices  svcscan.kernel_drivers  svcscan.fs_drivers  \\\n",
      "0                     24                      18                   9   \n",
      "1                     27                      19                   9   \n",
      "2                     30                      19                   9   \n",
      "3                     30                      19                   9   \n",
      "4                     27                      19                   9   \n",
      "...                  ...                     ...                 ...   \n",
      "58591                 24                      18                   9   \n",
      "58592                 24                      18                   9   \n",
      "58593                 24                      18                   9   \n",
      "58594                 24                      18                   9   \n",
      "58595                 24                      18                   9   \n",
      "\n",
      "       svcscan.process_services  svcscan.shared_process_services  \\\n",
      "0                            10                               20   \n",
      "1                            10                               22   \n",
      "2                            13                               22   \n",
      "3                            13                               22   \n",
      "4                            10                               22   \n",
      "...                         ...                              ...   \n",
      "58591                        10                               20   \n",
      "58592                        10                               20   \n",
      "58593                        10                               20   \n",
      "58594                        10                               20   \n",
      "58595                        10                               20   \n",
      "\n",
      "       svcscan.nactive  callbacks.ncallbacks  callbacks.nanonymous  \n",
      "0                   26                    10                     0  \n",
      "1                   27                    10                     0  \n",
      "2                   25                    11                     0  \n",
      "3                   25                    11                     0  \n",
      "4                   29                    10                     0  \n",
      "...                ...                   ...                   ...  \n",
      "58591               25                     9                     0  \n",
      "58592               21                    11                     0  \n",
      "58593               25                    11                     0  \n",
      "58594               25                    10                     0  \n",
      "58595               25                     9                     0  \n",
      "\n",
      "[58596 rows x 50 columns]\n",
      "[0 0 0 ... 1 1 1]\n"
     ]
    }
   ],
   "source": [
    "# Encode string categories to integers\n",
    "label_encoder = LabelEncoder()\n",
    "X = X.apply(label_encoder.fit_transform)\n",
    "y = label_encoder.fit_transform(y)\n",
    "print(X)\n",
    "print(y)"
   ]
  },
  {
   "cell_type": "code",
   "execution_count": 76,
   "metadata": {},
   "outputs": [],
   "source": [
    "# Split data\n",
    "X_train, X_test, y_train, y_test = train_test_split(X, y, test_size=0.25)"
   ]
  },
  {
   "cell_type": "code",
   "execution_count": 77,
   "metadata": {},
   "outputs": [
    {
     "name": "stderr",
     "output_type": "stream",
     "text": [
      "c:\\Python312\\Lib\\site-packages\\sklearn\\ensemble\\_weight_boosting.py:519: FutureWarning: The SAMME.R algorithm (the default) is deprecated and will be removed in 1.6. Use the SAMME algorithm to circumvent this warning.\n",
      "  warnings.warn(\n"
     ]
    },
    {
     "name": "stdout",
     "output_type": "stream",
     "text": [
      "Training accuracy: 0.664504971897968\n",
      "Test accuracy: 0.6638678408082463\n"
     ]
    }
   ],
   "source": [
    "# Creating adaboost classifier model \n",
    "adb = AdaBoostClassifier(n_estimators=50, learning_rate=1, random_state=0) \n",
    "adb_model = adb.fit(X_train, y_train)\n",
    "y_pred = adb_model.predict(X_test)\n",
    "print('Training accuracy:', adb.score(X_train, y_train))\n",
    "print('Test accuracy:', adb.score(X_test, y_test))"
   ]
  },
  {
   "cell_type": "code",
   "execution_count": 78,
   "metadata": {},
   "outputs": [
    {
     "name": "stdout",
     "output_type": "stream",
     "text": [
      "Accuracy score: 0.6638678408082463\n",
      "Precision score: 0.675896421121426\n",
      "Recall score: 0.6638678408082463\n",
      "F-1 score: 0.6546959227556102\n"
     ]
    }
   ],
   "source": [
    "y_pred = adb.predict(X_test)\n",
    "print(f\"Accuracy score: {accuracy_score(y_test, y_pred)}\")\n",
    "print(f\"Precision score: {precision_score(y_test, y_pred, average='weighted', zero_division=0)}\")\n",
    "print(f\"Recall score: {recall_score(y_test, y_pred, average='weighted', zero_division=0)}\")\n",
    "print(f\"F-1 score: {f1_score(y_test, y_pred, average='weighted', zero_division=0)}\")"
   ]
  },
  {
   "cell_type": "code",
   "execution_count": 79,
   "metadata": {},
   "outputs": [
    {
     "data": {
      "image/png": "[encoded data removed]",
      "text/plain": [
       "<Figure size 640x480 with 2 Axes>"
      ]
     },
     "metadata": {},
     "output_type": "display_data"
    }
   ],
   "source": [
    "import matplotlib.pyplot as plt\n",
    "from sklearn.metrics import confusion_matrix, ConfusionMatrixDisplay\n",
    "\n",
    "# Assuming y_test are the true labels and predictions are the model predictions\n",
    "cm = confusion_matrix(y_test, y_pred)\n",
    "disp = ConfusionMatrixDisplay(confusion_matrix=cm, display_labels=adb.classes_)\n",
    "disp.plot(cmap=plt.cm.Blues)\n",
    "plt.show()\n"
   ]
  },
  {
   "cell_type": "markdown",
   "metadata": {},
   "source": [
    "**AdaBoost**\n",
    "\n",
    "AdaBoost (Adaptive Boosting) is a machine learning algorithm that is used for classification tasks. It is an ensemble method that combines multiple weak classifiers to create a strong classifier. \n",
    "\n",
    "The AdaBoostClassifier variable in this Jupyter Notebook is of type `sklearn.ensemble._weight_boosting.AdaBoostClassifier`. It has been imported from the `sklearn.ensemble` module.\n",
    "\n",
    "The `adb` and `adb_model` variables are instances of the AdaBoostClassifier. They have been created with the parameters `learning_rate=1` and `random_state=0`.\n",
    "\n",
    "The AdaBoostClassifier is trained on the `X_train` and `y_train` data, and used to make predictions on the `X_test` data. The predicted labels are stored in the `y_pred` variable.\n",
    "\n",
    "To evaluate the performance of the AdaBoostClassifier, the `accuracy_score` function from the `sklearn.metrics` module can be used. It compares the predicted labels (`y_pred`) with the true labels (`y_test`) and returns the accuracy of the classifier.\n",
    "\n",
    "Overall, AdaBoost is a powerful algorithm for classification tasks, especially when combined with weak classifiers. It can be used to improve the accuracy of predictions and handle complex datasets."
   ]
  }
 ],
 "metadata": {
  "kernelspec": {
   "display_name": "Python 3",
   "language": "python",
   "name": "python3"
  },
  "language_info": {
   "codemirror_mode": {
    "name": "ipython",
    "version": 3
   },
   "file_extension": ".py",
   "mimetype": "text/x-python",
   "name": "python",
   "nbconvert_exporter": "python",
   "pygments_lexer": "ipython3",
   "version": "3.12.2"
  }
 },
 "nbformat": 4,
 "nbformat_minor": 2
}
