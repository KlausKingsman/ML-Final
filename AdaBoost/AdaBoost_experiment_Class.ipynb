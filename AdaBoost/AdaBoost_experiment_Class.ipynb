{
 "cells": [
  {
   "cell_type": "code",
   "execution_count": 20,
   "metadata": {},
   "outputs": [],
   "source": [
    "\n",
    "import pandas as pd\n",
    "from sklearn.model_selection import train_test_split\n",
    "from sklearn.ensemble import AdaBoostClassifier\n",
    "from sklearn.metrics import accuracy_score\n",
    "from sklearn.preprocessing import LabelEncoder\n",
    "from sklearn.metrics import accuracy_score, precision_score, recall_score, f1_score"
   ]
  },
  {
   "cell_type": "code",
   "execution_count": 21,
   "metadata": {},
   "outputs": [],
   "source": [
    "# data\n",
    "data_filepath = '../datasets/Obfuscated/Obfuscated-MalMem2022_edited.csv'\n",
    "data= pd.read_csv(data_filepath)"
   ]
  },
  {
   "cell_type": "code",
   "execution_count": 22,
   "metadata": {},
   "outputs": [
    {
     "name": "stdout",
     "output_type": "stream",
     "text": [
      "<class 'pandas.core.frame.DataFrame'>\n",
      "RangeIndex: 58596 entries, 0 to 58595\n",
      "Data columns (total 57 columns):\n",
      " #   Column                                  Non-Null Count  Dtype  \n",
      "---  ------                                  --------------  -----  \n",
      " 0   Category                                58596 non-null  object \n",
      " 1   pslist.nproc                            58596 non-null  int64  \n",
      " 2   pslist.nppid                            58596 non-null  int64  \n",
      " 3   pslist.avg_threads                      58596 non-null  float64\n",
      " 4   pslist.nprocs64bit                      58596 non-null  int64  \n",
      " 5   pslist.avg_handlers                     58596 non-null  float64\n",
      " 6   dlllist.ndlls                           58596 non-null  int64  \n",
      " 7   dlllist.avg_dlls_per_proc               58596 non-null  float64\n",
      " 8   handles.nhandles                        58596 non-null  int64  \n",
      " 9   handles.avg_handles_per_proc            58596 non-null  float64\n",
      " 10  handles.nport                           58596 non-null  int64  \n",
      " 11  handles.nfile                           58596 non-null  int64  \n",
      " 12  handles.nevent                          58596 non-null  int64  \n",
      " 13  handles.ndesktop                        58596 non-null  int64  \n",
      " 14  handles.nkey                            58596 non-null  int64  \n",
      " 15  handles.nthread                         58596 non-null  int64  \n",
      " 16  handles.ndirectory                      58596 non-null  int64  \n",
      " 17  handles.nsemaphore                      58596 non-null  int64  \n",
      " 18  handles.ntimer                          58596 non-null  int64  \n",
      " 19  handles.nsection                        58596 non-null  int64  \n",
      " 20  handles.nmutant                         58596 non-null  int64  \n",
      " 21  ldrmodules.not_in_load                  58596 non-null  int64  \n",
      " 22  ldrmodules.not_in_init                  58596 non-null  int64  \n",
      " 23  ldrmodules.not_in_mem                   58596 non-null  int64  \n",
      " 24  ldrmodules.not_in_load_avg              58596 non-null  float64\n",
      " 25  ldrmodules.not_in_init_avg              58596 non-null  float64\n",
      " 26  ldrmodules.not_in_mem_avg               58596 non-null  float64\n",
      " 27  malfind.ninjections                     58596 non-null  int64  \n",
      " 28  malfind.commitCharge                    58596 non-null  int64  \n",
      " 29  malfind.protection                      58596 non-null  int64  \n",
      " 30  malfind.uniqueInjections                58596 non-null  float64\n",
      " 31  psxview.not_in_pslist                   58596 non-null  int64  \n",
      " 32  psxview.not_in_eprocess_pool            58596 non-null  int64  \n",
      " 33  psxview.not_in_ethread_pool             58596 non-null  int64  \n",
      " 34  psxview.not_in_pspcid_list              58596 non-null  int64  \n",
      " 35  psxview.not_in_csrss_handles            58596 non-null  int64  \n",
      " 36  psxview.not_in_session                  58596 non-null  int64  \n",
      " 37  psxview.not_in_deskthrd                 58596 non-null  int64  \n",
      " 38  psxview.not_in_pslist_false_avg         58596 non-null  float64\n",
      " 39  psxview.not_in_eprocess_pool_false_avg  58596 non-null  float64\n",
      " 40  psxview.not_in_ethread_pool_false_avg   58596 non-null  float64\n",
      " 41  psxview.not_in_pspcid_list_false_avg    58596 non-null  float64\n",
      " 42  psxview.not_in_csrss_handles_false_avg  58596 non-null  float64\n",
      " 43  psxview.not_in_session_false_avg        58596 non-null  float64\n",
      " 44  psxview.not_in_deskthrd_false_avg       58596 non-null  float64\n",
      " 45  modules.nmodules                        58596 non-null  int64  \n",
      " 46  svcscan.nservices                       58596 non-null  int64  \n",
      " 47  svcscan.kernel_drivers                  58596 non-null  int64  \n",
      " 48  svcscan.fs_drivers                      58596 non-null  int64  \n",
      " 49  svcscan.process_services                58596 non-null  int64  \n",
      " 50  svcscan.shared_process_services         58596 non-null  int64  \n",
      " 51  svcscan.interactive_process_services    58596 non-null  int64  \n",
      " 52  svcscan.nactive                         58596 non-null  int64  \n",
      " 53  callbacks.ncallbacks                    58596 non-null  int64  \n",
      " 54  callbacks.nanonymous                    58596 non-null  int64  \n",
      " 55  callbacks.ngeneric                      58596 non-null  int64  \n",
      " 56  Class                                   58596 non-null  object \n",
      "dtypes: float64(15), int64(40), object(2)\n",
      "memory usage: 25.5+ MB\n"
     ]
    }
   ],
   "source": [
    "data.info()"
   ]
  },
  {
   "cell_type": "code",
   "execution_count": 23,
   "metadata": {},
   "outputs": [],
   "source": [
    "# Preprocess data\n",
    "X_drop_columns = ['Class', \n",
    "                'Category', \n",
    "                'svcscan.interactive_process_services', \n",
    "                'handles.nport', \n",
    "                'modules.nmodules',\n",
    "                'pslist.nprocs64bit', \n",
    "                'callbacks.ngeneric']\n",
    "X = data.drop(columns=X_drop_columns)\n",
    "y = data.Class"
   ]
  },
  {
   "cell_type": "code",
   "execution_count": 24,
   "metadata": {},
   "outputs": [
    {
     "name": "stdout",
     "output_type": "stream",
     "text": [
      "Total classes: 2\n"
     ]
    }
   ],
   "source": [
    "total_classes = y.nunique()\n",
    "print(\"Total classes: %s\"%total_classes)"
   ]
  },
  {
   "cell_type": "code",
   "execution_count": 25,
   "metadata": {},
   "outputs": [
    {
     "name": "stdout",
     "output_type": "stream",
     "text": [
      "Class\n",
      "Benign     29298\n",
      "Malware    29298\n",
      "Name: count, dtype: int64\n"
     ]
    }
   ],
   "source": [
    "distribution = y.value_counts() \n",
    "print(distribution)"
   ]
  },
  {
   "cell_type": "code",
   "execution_count": 26,
   "metadata": {},
   "outputs": [
    {
     "name": "stdout",
     "output_type": "stream",
     "text": [
      "       pslist.nproc  pslist.nppid  pslist.avg_threads  pslist.avg_handlers  \\\n",
      "0                45            17           10.555556           202.844444   \n",
      "1                47            19           11.531915           242.234043   \n",
      "2                40            14           14.725000           288.225000   \n",
      "3                32            13           13.500000           264.281250   \n",
      "4                42            16           11.452381           281.333333   \n",
      "...             ...           ...                 ...                  ...   \n",
      "58591            37            15           10.108108           215.486487   \n",
      "58592            37            14            9.945946           190.216216   \n",
      "58593            38            15            9.842105           210.026316   \n",
      "58594            37            15           10.243243           215.513513   \n",
      "58595            38            15            9.868421           213.026316   \n",
      "\n",
      "       dlllist.ndlls  dlllist.avg_dlls_per_proc  handles.nhandles  \\\n",
      "0               1694                  38.500000              9129   \n",
      "1               2074                  44.127660             11385   \n",
      "2               1932                  48.300000             11529   \n",
      "3               1445                  45.156250              8457   \n",
      "4               2067                  49.214286             11816   \n",
      "...              ...                        ...               ...   \n",
      "58591           1453                  39.270270              7973   \n",
      "58592           1347                  36.405405              7038   \n",
      "58593           1448                  38.105263              7982   \n",
      "58594           1452                  39.243243              7974   \n",
      "58595           1487                  39.131579              8095   \n",
      "\n",
      "       handles.avg_handles_per_proc  handles.nfile  handles.nevent  ...  \\\n",
      "0                        212.302326            670            3161  ...   \n",
      "1                        242.234043            840            3761  ...   \n",
      "2                        288.225000           1050            3996  ...   \n",
      "3                        264.281250            630            2961  ...   \n",
      "4                        281.333333            908            3834  ...   \n",
      "...                             ...            ...             ...  ...   \n",
      "58591                    215.486487            630            2819  ...   \n",
      "58592                    190.216216            603            2394  ...   \n",
      "58593                    215.729730            624            2816  ...   \n",
      "58594                    215.513513            632            2819  ...   \n",
      "58595                    213.026316            637            2843  ...   \n",
      "\n",
      "       psxview.not_in_session_false_avg  psxview.not_in_deskthrd_false_avg  \\\n",
      "0                              0.085106                           0.191489   \n",
      "1                              0.042553                           0.127660   \n",
      "2                              0.050000                           0.125000   \n",
      "3                              0.062500                           0.187500   \n",
      "4                              0.130435                           0.217391   \n",
      "...                                 ...                                ...   \n",
      "58591                          0.078947                           0.184211   \n",
      "58592                          0.054054                           0.162162   \n",
      "58593                          0.100000                           0.225000   \n",
      "58594                          0.054054                           0.162162   \n",
      "58595                          0.121951                           0.219512   \n",
      "\n",
      "       svcscan.nservices  svcscan.kernel_drivers  svcscan.fs_drivers  \\\n",
      "0                    389                     221                  26   \n",
      "1                    392                     222                  26   \n",
      "2                    395                     222                  26   \n",
      "3                    395                     222                  26   \n",
      "4                    392                     222                  26   \n",
      "...                  ...                     ...                 ...   \n",
      "58591                389                     221                  26   \n",
      "58592                389                     221                  26   \n",
      "58593                389                     221                  26   \n",
      "58594                389                     221                  26   \n",
      "58595                389                     221                  26   \n",
      "\n",
      "       svcscan.process_services  svcscan.shared_process_services  \\\n",
      "0                            24                              116   \n",
      "1                            24                              118   \n",
      "2                            27                              118   \n",
      "3                            27                              118   \n",
      "4                            24                              118   \n",
      "...                         ...                              ...   \n",
      "58591                        24                              116   \n",
      "58592                        24                              116   \n",
      "58593                        24                              116   \n",
      "58594                        24                              116   \n",
      "58595                        24                              116   \n",
      "\n",
      "       svcscan.nactive  callbacks.ncallbacks  callbacks.nanonymous  \n",
      "0                  121                    87                     0  \n",
      "1                  122                    87                     0  \n",
      "2                  120                    88                     0  \n",
      "3                  120                    88                     0  \n",
      "4                  124                    87                     0  \n",
      "...                ...                   ...                   ...  \n",
      "58591              120                    86                     0  \n",
      "58592              116                    88                     0  \n",
      "58593              120                    88                     0  \n",
      "58594              120                    87                     0  \n",
      "58595              120                    86                     0  \n",
      "\n",
      "[58596 rows x 50 columns]\n",
      "[0 0 0 ... 1 1 1]\n"
     ]
    }
   ],
   "source": [
    "# Encode string categories to integers\n",
    "label_encoder = LabelEncoder()\n",
    "y = label_encoder.fit_transform(y)\n",
    "print(X)\n",
    "print(y)"
   ]
  },
  {
   "cell_type": "code",
   "execution_count": 27,
   "metadata": {},
   "outputs": [],
   "source": [
    "# Split data\n",
    "X_train, X_test, y_train, y_test = train_test_split(X, y, test_size=0.3, random_state=42)"
   ]
  },
  {
   "cell_type": "code",
   "execution_count": 28,
   "metadata": {},
   "outputs": [
    {
     "name": "stderr",
     "output_type": "stream",
     "text": [
      "c:\\Python312\\Lib\\site-packages\\sklearn\\ensemble\\_weight_boosting.py:519: FutureWarning: The SAMME.R algorithm (the default) is deprecated and will be removed in 1.6. Use the SAMME algorithm to circumvent this warning.\n",
      "  warnings.warn(\n"
     ]
    },
    {
     "name": "stdout",
     "output_type": "stream",
     "text": [
      "Training accuracy: 1.0\n",
      "Test accuracy: 0.9999431139427726\n"
     ]
    }
   ],
   "source": [
    "# Creating adaboost classifier model \n",
    "adb = AdaBoostClassifier(n_estimators=data.shape[1], learning_rate=1, random_state=42) \n",
    "adb_model = adb.fit(X_train, y_train)\n",
    "y_pred = adb_model.predict(X_test)\n",
    "print('Training accuracy:', adb.score(X_train, y_train))\n",
    "print('Test accuracy:', adb.score(X_test, y_test))"
   ]
  },
  {
   "cell_type": "code",
   "execution_count": 29,
   "metadata": {},
   "outputs": [
    {
     "name": "stdout",
     "output_type": "stream",
     "text": [
      "Accuracy score: 0.9999431139427726\n",
      "Precision score: 0.9999431203851348\n",
      "Recall score: 0.9999431139427726\n",
      "F-1 score: 0.9999431139280456\n"
     ]
    }
   ],
   "source": [
    "y_pred = adb.predict(X_test)\n",
    "print(f\"Accuracy score: {accuracy_score(y_test, y_pred)}\")\n",
    "print(f\"Precision score: {precision_score(y_test, y_pred, average='weighted', zero_division=0)}\")\n",
    "print(f\"Recall score: {recall_score(y_test, y_pred, average='weighted', zero_division=0)}\")\n",
    "print(f\"F-1 score: {f1_score(y_test, y_pred, average='weighted', zero_division=0)}\")"
   ]
  },
  {
   "cell_type": "code",
   "execution_count": 30,
   "metadata": {},
   "outputs": [
    {
     "data": {
      "image/png": "[encoded data removed]",
      "text/plain": [
       "<Figure size 640x480 with 2 Axes>"
      ]
     },
     "metadata": {},
     "output_type": "display_data"
    }
   ],
   "source": [
    "import matplotlib.pyplot as plt\n",
    "from sklearn.metrics import confusion_matrix, ConfusionMatrixDisplay\n",
    "\n",
    "# Assuming y_test are the true labels and predictions are the model predictions\n",
    "cm = confusion_matrix(y_test, y_pred)\n",
    "disp = ConfusionMatrixDisplay(confusion_matrix=cm, display_labels=adb.classes_)\n",
    "disp.plot(cmap=plt.cm.Blues)\n",
    "plt.show()\n"
   ]
  },
  {
   "cell_type": "markdown",
   "metadata": {},
   "source": [
    "**AdaBoost**\n",
    "\n",
    "AdaBoost (Adaptive Boosting) is a machine learning algorithm that is used for classification tasks. It is an ensemble method that combines multiple weak classifiers to create a strong classifier. \n",
    "\n",
    "The AdaBoostClassifier variable in this Jupyter Notebook is of type `sklearn.ensemble._weight_boosting.AdaBoostClassifier`. It has been imported from the `sklearn.ensemble` module.\n",
    "\n",
    "The `adb` and `adb_model` variables are instances of the AdaBoostClassifier. They have been created with the parameters `learning_rate=1` and `random_state=0`.\n",
    "\n",
    "The AdaBoostClassifier is trained on the `X_train` and `y_train` data, and used to make predictions on the `X_test` data. The predicted labels are stored in the `y_pred` variable.\n",
    "\n",
    "To evaluate the performance of the AdaBoostClassifier, the `accuracy_score` function from the `sklearn.metrics` module can be used. It compares the predicted labels (`y_pred`) with the true labels (`y_test`) and returns the accuracy of the classifier.\n",
    "\n",
    "Overall, AdaBoost is a powerful algorithm for classification tasks, especially when combined with weak classifiers. It can be used to improve the accuracy of predictions and handle complex datasets."
   ]
  }
 ],
 "metadata": {
  "kernelspec": {
   "display_name": "Python 3",
   "language": "python",
   "name": "python3"
  },
  "language_info": {
   "codemirror_mode": {
    "name": "ipython",
    "version": 3
   },
   "file_extension": ".py",
   "mimetype": "text/x-python",
   "name": "python",
   "nbconvert_exporter": "python",
   "pygments_lexer": "ipython3",
   "version": "3.12.2"
  }
 },
 "nbformat": 4,
 "nbformat_minor": 2
}
