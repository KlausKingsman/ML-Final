{
 "cells": [
  {
   "cell_type": "code",
   "execution_count": 4,
   "metadata": {},
   "outputs": [],
   "source": [
    "import pprint\n",
    "\n",
    "# Data libs\n",
    "import pandas as pd\n",
    "import numpy as np\n",
    "import matplotlib.pyplot as plt\n",
    "from sklearn.preprocessing import StandardScaler\n",
    "from sklearn.preprocessing import LabelEncoder\n",
    "from sklearn.preprocessing import OneHotEncoder\n",
    "from sklearn.compose import ColumnTransformer\n",
    "\n",
    "# Classifiers \n",
    "from sklearn.ensemble import RandomForestClassifier\n",
    "\n",
    "# Analysis libs\n",
    "from sklearn import tree\n",
    "from sklearn.model_selection import cross_val_score\n",
    "from sklearn.discriminant_analysis import QuadraticDiscriminantAnalysis\n",
    "from sklearn.inspection import DecisionBoundaryDisplay\n",
    "from sklearn.metrics import confusion_matrix, ConfusionMatrixDisplay\n",
    "from sklearn.feature_selection import SelectFromModel\n",
    "from sklearn.metrics import accuracy_score\n",
    "from sklearn.metrics import classification_report\n",
    "from sklearn.model_selection import train_test_split\n",
    "from sklearn.feature_selection import mutual_info_classif\n"
   ]
  },
  {
   "cell_type": "code",
   "execution_count": 5,
   "metadata": {},
   "outputs": [],
   "source": [
    "malware_data_filepath = '../datasets/Obfuscated/Obfuscated-MalMem2022_edited.csv'\n",
    "malware_data = pd.read_csv(malware_data_filepath)"
   ]
  },
  {
   "cell_type": "code",
   "execution_count": 6,
   "metadata": {},
   "outputs": [],
   "source": [
    "X_drop_columns = ['Class', 'Category', 'svcscan.interactive_process_services', 'handles.nport', 'pslist.nprocs64bit']\n",
    "X = malware_data.drop(columns=X_drop_columns)\n",
    "\n",
    "y_column = malware_data.Class\n",
    "class_le = LabelEncoder()\n",
    "y = class_le.fit_transform(y_column)"
   ]
  },
  {
   "cell_type": "code",
   "execution_count": 7,
   "metadata": {},
   "outputs": [
    {
     "data": {
      "text/html": [
       "<div>\n",
       "<style scoped>\n",
       "    .dataframe tbody tr th:only-of-type {\n",
       "        vertical-align: middle;\n",
       "    }\n",
       "\n",
       "    .dataframe tbody tr th {\n",
       "        vertical-align: top;\n",
       "    }\n",
       "\n",
       "    .dataframe thead th {\n",
       "        text-align: right;\n",
       "    }\n",
       "</style>\n",
       "<table border=\"1\" class=\"dataframe\">\n",
       "  <thead>\n",
       "    <tr style=\"text-align: right;\">\n",
       "      <th></th>\n",
       "      <th>pslist.nproc</th>\n",
       "      <th>pslist.nppid</th>\n",
       "      <th>pslist.avg_threads</th>\n",
       "      <th>pslist.avg_handlers</th>\n",
       "      <th>dlllist.ndlls</th>\n",
       "      <th>dlllist.avg_dlls_per_proc</th>\n",
       "      <th>handles.nhandles</th>\n",
       "      <th>handles.avg_handles_per_proc</th>\n",
       "      <th>handles.nfile</th>\n",
       "      <th>handles.nevent</th>\n",
       "      <th>...</th>\n",
       "      <th>modules.nmodules</th>\n",
       "      <th>svcscan.nservices</th>\n",
       "      <th>svcscan.kernel_drivers</th>\n",
       "      <th>svcscan.fs_drivers</th>\n",
       "      <th>svcscan.process_services</th>\n",
       "      <th>svcscan.shared_process_services</th>\n",
       "      <th>svcscan.nactive</th>\n",
       "      <th>callbacks.ncallbacks</th>\n",
       "      <th>callbacks.nanonymous</th>\n",
       "      <th>callbacks.ngeneric</th>\n",
       "    </tr>\n",
       "  </thead>\n",
       "  <tbody>\n",
       "    <tr>\n",
       "      <th>0</th>\n",
       "      <td>45</td>\n",
       "      <td>17</td>\n",
       "      <td>10.555556</td>\n",
       "      <td>202.844444</td>\n",
       "      <td>1694</td>\n",
       "      <td>38.500000</td>\n",
       "      <td>9129</td>\n",
       "      <td>212.302326</td>\n",
       "      <td>670</td>\n",
       "      <td>3161</td>\n",
       "      <td>...</td>\n",
       "      <td>138</td>\n",
       "      <td>389</td>\n",
       "      <td>221</td>\n",
       "      <td>26</td>\n",
       "      <td>24</td>\n",
       "      <td>116</td>\n",
       "      <td>121</td>\n",
       "      <td>87</td>\n",
       "      <td>0</td>\n",
       "      <td>8</td>\n",
       "    </tr>\n",
       "    <tr>\n",
       "      <th>1</th>\n",
       "      <td>47</td>\n",
       "      <td>19</td>\n",
       "      <td>11.531915</td>\n",
       "      <td>242.234043</td>\n",
       "      <td>2074</td>\n",
       "      <td>44.127660</td>\n",
       "      <td>11385</td>\n",
       "      <td>242.234043</td>\n",
       "      <td>840</td>\n",
       "      <td>3761</td>\n",
       "      <td>...</td>\n",
       "      <td>138</td>\n",
       "      <td>392</td>\n",
       "      <td>222</td>\n",
       "      <td>26</td>\n",
       "      <td>24</td>\n",
       "      <td>118</td>\n",
       "      <td>122</td>\n",
       "      <td>87</td>\n",
       "      <td>0</td>\n",
       "      <td>8</td>\n",
       "    </tr>\n",
       "    <tr>\n",
       "      <th>2</th>\n",
       "      <td>40</td>\n",
       "      <td>14</td>\n",
       "      <td>14.725000</td>\n",
       "      <td>288.225000</td>\n",
       "      <td>1932</td>\n",
       "      <td>48.300000</td>\n",
       "      <td>11529</td>\n",
       "      <td>288.225000</td>\n",
       "      <td>1050</td>\n",
       "      <td>3996</td>\n",
       "      <td>...</td>\n",
       "      <td>137</td>\n",
       "      <td>395</td>\n",
       "      <td>222</td>\n",
       "      <td>26</td>\n",
       "      <td>27</td>\n",
       "      <td>118</td>\n",
       "      <td>120</td>\n",
       "      <td>88</td>\n",
       "      <td>0</td>\n",
       "      <td>8</td>\n",
       "    </tr>\n",
       "    <tr>\n",
       "      <th>3</th>\n",
       "      <td>32</td>\n",
       "      <td>13</td>\n",
       "      <td>13.500000</td>\n",
       "      <td>264.281250</td>\n",
       "      <td>1445</td>\n",
       "      <td>45.156250</td>\n",
       "      <td>8457</td>\n",
       "      <td>264.281250</td>\n",
       "      <td>630</td>\n",
       "      <td>2961</td>\n",
       "      <td>...</td>\n",
       "      <td>138</td>\n",
       "      <td>395</td>\n",
       "      <td>222</td>\n",
       "      <td>26</td>\n",
       "      <td>27</td>\n",
       "      <td>118</td>\n",
       "      <td>120</td>\n",
       "      <td>88</td>\n",
       "      <td>0</td>\n",
       "      <td>8</td>\n",
       "    </tr>\n",
       "    <tr>\n",
       "      <th>4</th>\n",
       "      <td>42</td>\n",
       "      <td>16</td>\n",
       "      <td>11.452381</td>\n",
       "      <td>281.333333</td>\n",
       "      <td>2067</td>\n",
       "      <td>49.214286</td>\n",
       "      <td>11816</td>\n",
       "      <td>281.333333</td>\n",
       "      <td>908</td>\n",
       "      <td>3834</td>\n",
       "      <td>...</td>\n",
       "      <td>138</td>\n",
       "      <td>392</td>\n",
       "      <td>222</td>\n",
       "      <td>26</td>\n",
       "      <td>24</td>\n",
       "      <td>118</td>\n",
       "      <td>124</td>\n",
       "      <td>87</td>\n",
       "      <td>0</td>\n",
       "      <td>8</td>\n",
       "    </tr>\n",
       "    <tr>\n",
       "      <th>...</th>\n",
       "      <td>...</td>\n",
       "      <td>...</td>\n",
       "      <td>...</td>\n",
       "      <td>...</td>\n",
       "      <td>...</td>\n",
       "      <td>...</td>\n",
       "      <td>...</td>\n",
       "      <td>...</td>\n",
       "      <td>...</td>\n",
       "      <td>...</td>\n",
       "      <td>...</td>\n",
       "      <td>...</td>\n",
       "      <td>...</td>\n",
       "      <td>...</td>\n",
       "      <td>...</td>\n",
       "      <td>...</td>\n",
       "      <td>...</td>\n",
       "      <td>...</td>\n",
       "      <td>...</td>\n",
       "      <td>...</td>\n",
       "      <td>...</td>\n",
       "    </tr>\n",
       "    <tr>\n",
       "      <th>58591</th>\n",
       "      <td>37</td>\n",
       "      <td>15</td>\n",
       "      <td>10.108108</td>\n",
       "      <td>215.486487</td>\n",
       "      <td>1453</td>\n",
       "      <td>39.270270</td>\n",
       "      <td>7973</td>\n",
       "      <td>215.486487</td>\n",
       "      <td>630</td>\n",
       "      <td>2819</td>\n",
       "      <td>...</td>\n",
       "      <td>138</td>\n",
       "      <td>389</td>\n",
       "      <td>221</td>\n",
       "      <td>26</td>\n",
       "      <td>24</td>\n",
       "      <td>116</td>\n",
       "      <td>120</td>\n",
       "      <td>86</td>\n",
       "      <td>0</td>\n",
       "      <td>8</td>\n",
       "    </tr>\n",
       "    <tr>\n",
       "      <th>58592</th>\n",
       "      <td>37</td>\n",
       "      <td>14</td>\n",
       "      <td>9.945946</td>\n",
       "      <td>190.216216</td>\n",
       "      <td>1347</td>\n",
       "      <td>36.405405</td>\n",
       "      <td>7038</td>\n",
       "      <td>190.216216</td>\n",
       "      <td>603</td>\n",
       "      <td>2394</td>\n",
       "      <td>...</td>\n",
       "      <td>138</td>\n",
       "      <td>389</td>\n",
       "      <td>221</td>\n",
       "      <td>26</td>\n",
       "      <td>24</td>\n",
       "      <td>116</td>\n",
       "      <td>116</td>\n",
       "      <td>88</td>\n",
       "      <td>0</td>\n",
       "      <td>8</td>\n",
       "    </tr>\n",
       "    <tr>\n",
       "      <th>58593</th>\n",
       "      <td>38</td>\n",
       "      <td>15</td>\n",
       "      <td>9.842105</td>\n",
       "      <td>210.026316</td>\n",
       "      <td>1448</td>\n",
       "      <td>38.105263</td>\n",
       "      <td>7982</td>\n",
       "      <td>215.729730</td>\n",
       "      <td>624</td>\n",
       "      <td>2816</td>\n",
       "      <td>...</td>\n",
       "      <td>138</td>\n",
       "      <td>389</td>\n",
       "      <td>221</td>\n",
       "      <td>26</td>\n",
       "      <td>24</td>\n",
       "      <td>116</td>\n",
       "      <td>120</td>\n",
       "      <td>88</td>\n",
       "      <td>0</td>\n",
       "      <td>8</td>\n",
       "    </tr>\n",
       "    <tr>\n",
       "      <th>58594</th>\n",
       "      <td>37</td>\n",
       "      <td>15</td>\n",
       "      <td>10.243243</td>\n",
       "      <td>215.513513</td>\n",
       "      <td>1452</td>\n",
       "      <td>39.243243</td>\n",
       "      <td>7974</td>\n",
       "      <td>215.513513</td>\n",
       "      <td>632</td>\n",
       "      <td>2819</td>\n",
       "      <td>...</td>\n",
       "      <td>138</td>\n",
       "      <td>389</td>\n",
       "      <td>221</td>\n",
       "      <td>26</td>\n",
       "      <td>24</td>\n",
       "      <td>116</td>\n",
       "      <td>120</td>\n",
       "      <td>87</td>\n",
       "      <td>0</td>\n",
       "      <td>8</td>\n",
       "    </tr>\n",
       "    <tr>\n",
       "      <th>58595</th>\n",
       "      <td>38</td>\n",
       "      <td>15</td>\n",
       "      <td>9.868421</td>\n",
       "      <td>213.026316</td>\n",
       "      <td>1487</td>\n",
       "      <td>39.131579</td>\n",
       "      <td>8095</td>\n",
       "      <td>213.026316</td>\n",
       "      <td>637</td>\n",
       "      <td>2843</td>\n",
       "      <td>...</td>\n",
       "      <td>138</td>\n",
       "      <td>389</td>\n",
       "      <td>221</td>\n",
       "      <td>26</td>\n",
       "      <td>24</td>\n",
       "      <td>116</td>\n",
       "      <td>120</td>\n",
       "      <td>86</td>\n",
       "      <td>0</td>\n",
       "      <td>8</td>\n",
       "    </tr>\n",
       "  </tbody>\n",
       "</table>\n",
       "<p>58596 rows × 52 columns</p>\n",
       "</div>"
      ],
      "text/plain": [
       "       pslist.nproc  pslist.nppid  pslist.avg_threads  pslist.avg_handlers  \\\n",
       "0                45            17           10.555556           202.844444   \n",
       "1                47            19           11.531915           242.234043   \n",
       "2                40            14           14.725000           288.225000   \n",
       "3                32            13           13.500000           264.281250   \n",
       "4                42            16           11.452381           281.333333   \n",
       "...             ...           ...                 ...                  ...   \n",
       "58591            37            15           10.108108           215.486487   \n",
       "58592            37            14            9.945946           190.216216   \n",
       "58593            38            15            9.842105           210.026316   \n",
       "58594            37            15           10.243243           215.513513   \n",
       "58595            38            15            9.868421           213.026316   \n",
       "\n",
       "       dlllist.ndlls  dlllist.avg_dlls_per_proc  handles.nhandles  \\\n",
       "0               1694                  38.500000              9129   \n",
       "1               2074                  44.127660             11385   \n",
       "2               1932                  48.300000             11529   \n",
       "3               1445                  45.156250              8457   \n",
       "4               2067                  49.214286             11816   \n",
       "...              ...                        ...               ...   \n",
       "58591           1453                  39.270270              7973   \n",
       "58592           1347                  36.405405              7038   \n",
       "58593           1448                  38.105263              7982   \n",
       "58594           1452                  39.243243              7974   \n",
       "58595           1487                  39.131579              8095   \n",
       "\n",
       "       handles.avg_handles_per_proc  handles.nfile  handles.nevent  ...  \\\n",
       "0                        212.302326            670            3161  ...   \n",
       "1                        242.234043            840            3761  ...   \n",
       "2                        288.225000           1050            3996  ...   \n",
       "3                        264.281250            630            2961  ...   \n",
       "4                        281.333333            908            3834  ...   \n",
       "...                             ...            ...             ...  ...   \n",
       "58591                    215.486487            630            2819  ...   \n",
       "58592                    190.216216            603            2394  ...   \n",
       "58593                    215.729730            624            2816  ...   \n",
       "58594                    215.513513            632            2819  ...   \n",
       "58595                    213.026316            637            2843  ...   \n",
       "\n",
       "       modules.nmodules  svcscan.nservices  svcscan.kernel_drivers  \\\n",
       "0                   138                389                     221   \n",
       "1                   138                392                     222   \n",
       "2                   137                395                     222   \n",
       "3                   138                395                     222   \n",
       "4                   138                392                     222   \n",
       "...                 ...                ...                     ...   \n",
       "58591               138                389                     221   \n",
       "58592               138                389                     221   \n",
       "58593               138                389                     221   \n",
       "58594               138                389                     221   \n",
       "58595               138                389                     221   \n",
       "\n",
       "       svcscan.fs_drivers  svcscan.process_services  \\\n",
       "0                      26                        24   \n",
       "1                      26                        24   \n",
       "2                      26                        27   \n",
       "3                      26                        27   \n",
       "4                      26                        24   \n",
       "...                   ...                       ...   \n",
       "58591                  26                        24   \n",
       "58592                  26                        24   \n",
       "58593                  26                        24   \n",
       "58594                  26                        24   \n",
       "58595                  26                        24   \n",
       "\n",
       "       svcscan.shared_process_services  svcscan.nactive  callbacks.ncallbacks  \\\n",
       "0                                  116              121                    87   \n",
       "1                                  118              122                    87   \n",
       "2                                  118              120                    88   \n",
       "3                                  118              120                    88   \n",
       "4                                  118              124                    87   \n",
       "...                                ...              ...                   ...   \n",
       "58591                              116              120                    86   \n",
       "58592                              116              116                    88   \n",
       "58593                              116              120                    88   \n",
       "58594                              116              120                    87   \n",
       "58595                              116              120                    86   \n",
       "\n",
       "       callbacks.nanonymous  callbacks.ngeneric  \n",
       "0                         0                   8  \n",
       "1                         0                   8  \n",
       "2                         0                   8  \n",
       "3                         0                   8  \n",
       "4                         0                   8  \n",
       "...                     ...                 ...  \n",
       "58591                     0                   8  \n",
       "58592                     0                   8  \n",
       "58593                     0                   8  \n",
       "58594                     0                   8  \n",
       "58595                     0                   8  \n",
       "\n",
       "[58596 rows x 52 columns]"
      ]
     },
     "execution_count": 7,
     "metadata": {},
     "output_type": "execute_result"
    }
   ],
   "source": [
    "X"
   ]
  },
  {
   "cell_type": "code",
   "execution_count": 8,
   "metadata": {},
   "outputs": [
    {
     "data": {
      "text/plain": [
       "array([0, 0, 0, ..., 1, 1, 1])"
      ]
     },
     "execution_count": 8,
     "metadata": {},
     "output_type": "execute_result"
    }
   ],
   "source": [
    "y"
   ]
  },
  {
   "cell_type": "code",
   "execution_count": 9,
   "metadata": {},
   "outputs": [],
   "source": [
    "# c_transform = ColumnTransformer([\n",
    "#     ('onehot', OneHotEncoder(), [0])\n",
    "# ], remainder='passthrough')\n",
    "# X = c_transform.fit_transform(X).astype(float)"
   ]
  },
  {
   "cell_type": "code",
   "execution_count": 10,
   "metadata": {},
   "outputs": [],
   "source": [
    "# X"
   ]
  },
  {
   "cell_type": "code",
   "execution_count": 11,
   "metadata": {},
   "outputs": [],
   "source": [
    "X_train, X_test, y_train, y_test = train_test_split(X, y, test_size=0.3, random_state=0, stratify=y)"
   ]
  },
  {
   "cell_type": "code",
   "execution_count": 12,
   "metadata": {},
   "outputs": [
    {
     "name": "stdout",
     "output_type": "stream",
     "text": [
      "X_train shape: (41017, 52)\n",
      "y_train shape: (41017,)\n",
      "X_test shape: (17579, 52)\n",
      "y_test shape: (17579,)\n"
     ]
    }
   ],
   "source": [
    "print(f\"X_train shape: {X_train.shape}\")\n",
    "print(f\"y_train shape: {y_train.shape}\")\n",
    "print(f\"X_test shape: {X_test.shape}\")\n",
    "print(f\"y_test shape: {y_test.shape}\")"
   ]
  },
  {
   "cell_type": "code",
   "execution_count": 13,
   "metadata": {},
   "outputs": [
    {
     "name": "stdout",
     "output_type": "stream",
     "text": [
      "Training accuracy: 1.0\n",
      "Test accuracy: 0.9997155697138631\n"
     ]
    }
   ],
   "source": [
    "rf = RandomForestClassifier(n_estimators=malware_data.shape[1], random_state=42)\n",
    "clf = rf.fit(X_train,y_train)\n",
    "print('Training accuracy:', clf.score(X_train, y_train))\n",
    "print('Test accuracy:', clf.score(X_test, y_test))"
   ]
  },
  {
   "cell_type": "code",
   "execution_count": 14,
   "metadata": {},
   "outputs": [
    {
     "data": {
      "text/plain": [
       "array([[8785,    5],\n",
       "       [   0, 8789]])"
      ]
     },
     "execution_count": 14,
     "metadata": {},
     "output_type": "execute_result"
    }
   ],
   "source": [
    "y_pred = clf.predict(X_test)\n",
    "cm = confusion_matrix(y_test, y_pred, labels=clf.classes_)\n",
    "cm"
   ]
  },
  {
   "cell_type": "code",
   "execution_count": 15,
   "metadata": {},
   "outputs": [
    {
     "data": {
      "text/plain": [
       "array([0, 1])"
      ]
     },
     "execution_count": 15,
     "metadata": {},
     "output_type": "execute_result"
    }
   ],
   "source": [
    "clf.classes_"
   ]
  },
  {
   "cell_type": "code",
   "execution_count": 13,
   "metadata": {},
   "outputs": [
    {
     "data": {
      "text/plain": [
       "<sklearn.metrics._plot.confusion_matrix.ConfusionMatrixDisplay at 0x7f22784b76d0>"
      ]
     },
     "execution_count": 13,
     "metadata": {},
     "output_type": "execute_result"
    },
    {
     "data": {
      "image/png": "[encoded data removed]",
      "text/plain": [
       "<Figure size 640x480 with 2 Axes>"
      ]
     },
     "metadata": {},
     "output_type": "display_data"
    }
   ],
   "source": [
    "disp = ConfusionMatrixDisplay(confusion_matrix=cm, display_labels=clf.classes_)\n",
    "disp.plot()"
   ]
  },
  {
   "cell_type": "code",
   "execution_count": 14,
   "metadata": {},
   "outputs": [
    {
     "name": "stdout",
     "output_type": "stream",
     "text": [
      "5\n"
     ]
    }
   ],
   "source": [
    "misclassified = np.where(y_test != y_pred)\n",
    "print(len(misclassified[0]))"
   ]
  },
  {
   "cell_type": "code",
   "execution_count": 15,
   "metadata": {},
   "outputs": [
    {
     "name": "stdout",
     "output_type": "stream",
     "text": [
      "              precision    recall  f1-score   support\n",
      "\n",
      "           0       1.00      1.00      1.00      8790\n",
      "           1       1.00      1.00      1.00      8789\n",
      "\n",
      "    accuracy                           1.00     17579\n",
      "   macro avg       1.00      1.00      1.00     17579\n",
      "weighted avg       1.00      1.00      1.00     17579\n",
      "\n"
     ]
    }
   ],
   "source": [
    "print(classification_report(y_test, y_pred))"
   ]
  },
  {
   "cell_type": "markdown",
   "metadata": {},
   "source": [
    "### results\n",
    "the binary classification was strong for results as it had 100% of Accuracy, Precision, Recall, and F1-Score. We also removed the unnecessary features from the dataset and yet it had no effect on the results. Of course, we must be aware of a slight overfit to this model, but this has infact shown that it can define benign and malware memory data.  "
   ]
  },
  {
   "cell_type": "code",
   "execution_count": 17,
   "metadata": {},
   "outputs": [],
   "source": [
    "scores = cross_val_score(clf, X, y, cv=10)"
   ]
  },
  {
   "cell_type": "code",
   "execution_count": 18,
   "metadata": {},
   "outputs": [
    {
     "data": {
      "text/plain": [
       "array([0.9996587 , 1.        , 1.        , 1.        , 0.98976109,\n",
       "       1.        , 0.99914661, 0.99982932, 1.        , 1.        ])"
      ]
     },
     "execution_count": 18,
     "metadata": {},
     "output_type": "execute_result"
    }
   ],
   "source": [
    "scores"
   ]
  },
  {
   "cell_type": "code",
   "execution_count": 19,
   "metadata": {},
   "outputs": [
    {
     "data": {
      "text/plain": [
       "0.998839572968165"
      ]
     },
     "execution_count": 19,
     "metadata": {},
     "output_type": "execute_result"
    }
   ],
   "source": [
    "scores.mean()"
   ]
  },
  {
   "cell_type": "code",
   "execution_count": 20,
   "metadata": {},
   "outputs": [
    {
     "data": {
      "text/plain": [
       "0.003037156736516367"
      ]
     },
     "execution_count": 20,
     "metadata": {},
     "output_type": "execute_result"
    }
   ],
   "source": [
    "scores.std()"
   ]
  },
  {
   "cell_type": "code",
   "execution_count": null,
   "metadata": {},
   "outputs": [],
   "source": []
  }
 ],
 "metadata": {
  "kernelspec": {
   "display_name": "malware_ml",
   "language": "python",
   "name": "python3"
  },
  "language_info": {
   "codemirror_mode": {
    "name": "ipython",
    "version": 3
   },
   "file_extension": ".py",
   "mimetype": "text/x-python",
   "name": "python",
   "nbconvert_exporter": "python",
   "pygments_lexer": "ipython3",
   "version": "3.11.8"
  }
 },
 "nbformat": 4,
 "nbformat_minor": 2
}
