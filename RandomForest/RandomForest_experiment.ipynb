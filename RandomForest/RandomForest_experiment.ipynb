{
 "cells": [
  {
   "cell_type": "code",
   "execution_count": 2,
   "metadata": {},
   "outputs": [],
   "source": [
    "import pprint\n",
    "\n",
    "# Data libs\n",
    "import pandas as pd\n",
    "import numpy as np\n",
    "import matplotlib.pyplot as plt\n",
    "from sklearn.preprocessing import StandardScaler\n",
    "from sklearn.preprocessing import LabelEncoder\n",
    "from sklearn.preprocessing import OneHotEncoder\n",
    "from sklearn.compose import ColumnTransformer\n",
    "\n",
    "# Classifiers \n",
    "from sklearn.ensemble import RandomForestClassifier\n",
    "\n",
    "# Analysis libs\n",
    "from sklearn.discriminant_analysis import QuadraticDiscriminantAnalysis\n",
    "from sklearn.inspection import DecisionBoundaryDisplay\n",
    "from sklearn.metrics import confusion_matrix\n",
    "from sklearn.feature_selection import SelectFromModel\n",
    "from sklearn.metrics import classification_report\n",
    "from sklearn.model_selection import train_test_split"
   ]
  },
  {
   "cell_type": "code",
   "execution_count": 4,
   "metadata": {},
   "outputs": [],
   "source": [
    "malware_data_filepath = '../datasets/Obfuscated/Obfuscated-MalMem2022_edited.csv'\n",
    "\n",
    "malware_data = pd.read_csv(malware_data_filepath)"
   ]
  },
  {
   "cell_type": "code",
   "execution_count": 5,
   "metadata": {},
   "outputs": [
    {
     "data": {
      "text/html": [
       "<div>\n",
       "<style scoped>\n",
       "    .dataframe tbody tr th:only-of-type {\n",
       "        vertical-align: middle;\n",
       "    }\n",
       "\n",
       "    .dataframe tbody tr th {\n",
       "        vertical-align: top;\n",
       "    }\n",
       "\n",
       "    .dataframe thead th {\n",
       "        text-align: right;\n",
       "    }\n",
       "</style>\n",
       "<table border=\"1\" class=\"dataframe\">\n",
       "  <thead>\n",
       "    <tr style=\"text-align: right;\">\n",
       "      <th></th>\n",
       "      <th>Category</th>\n",
       "      <th>pslist.nproc</th>\n",
       "      <th>pslist.nppid</th>\n",
       "      <th>pslist.avg_threads</th>\n",
       "      <th>pslist.nprocs64bit</th>\n",
       "      <th>pslist.avg_handlers</th>\n",
       "      <th>dlllist.ndlls</th>\n",
       "      <th>dlllist.avg_dlls_per_proc</th>\n",
       "      <th>handles.nhandles</th>\n",
       "      <th>handles.avg_handles_per_proc</th>\n",
       "      <th>...</th>\n",
       "      <th>svcscan.kernel_drivers</th>\n",
       "      <th>svcscan.fs_drivers</th>\n",
       "      <th>svcscan.process_services</th>\n",
       "      <th>svcscan.shared_process_services</th>\n",
       "      <th>svcscan.interactive_process_services</th>\n",
       "      <th>svcscan.nactive</th>\n",
       "      <th>callbacks.ncallbacks</th>\n",
       "      <th>callbacks.nanonymous</th>\n",
       "      <th>callbacks.ngeneric</th>\n",
       "      <th>Class</th>\n",
       "    </tr>\n",
       "  </thead>\n",
       "  <tbody>\n",
       "    <tr>\n",
       "      <th>0</th>\n",
       "      <td>Benign</td>\n",
       "      <td>45</td>\n",
       "      <td>17</td>\n",
       "      <td>10.555556</td>\n",
       "      <td>0</td>\n",
       "      <td>202.844444</td>\n",
       "      <td>1694</td>\n",
       "      <td>38.500000</td>\n",
       "      <td>9129</td>\n",
       "      <td>212.302326</td>\n",
       "      <td>...</td>\n",
       "      <td>221</td>\n",
       "      <td>26</td>\n",
       "      <td>24</td>\n",
       "      <td>116</td>\n",
       "      <td>0</td>\n",
       "      <td>121</td>\n",
       "      <td>87</td>\n",
       "      <td>0</td>\n",
       "      <td>8</td>\n",
       "      <td>Benign</td>\n",
       "    </tr>\n",
       "    <tr>\n",
       "      <th>1</th>\n",
       "      <td>Benign</td>\n",
       "      <td>47</td>\n",
       "      <td>19</td>\n",
       "      <td>11.531915</td>\n",
       "      <td>0</td>\n",
       "      <td>242.234043</td>\n",
       "      <td>2074</td>\n",
       "      <td>44.127660</td>\n",
       "      <td>11385</td>\n",
       "      <td>242.234043</td>\n",
       "      <td>...</td>\n",
       "      <td>222</td>\n",
       "      <td>26</td>\n",
       "      <td>24</td>\n",
       "      <td>118</td>\n",
       "      <td>0</td>\n",
       "      <td>122</td>\n",
       "      <td>87</td>\n",
       "      <td>0</td>\n",
       "      <td>8</td>\n",
       "      <td>Benign</td>\n",
       "    </tr>\n",
       "    <tr>\n",
       "      <th>2</th>\n",
       "      <td>Benign</td>\n",
       "      <td>40</td>\n",
       "      <td>14</td>\n",
       "      <td>14.725000</td>\n",
       "      <td>0</td>\n",
       "      <td>288.225000</td>\n",
       "      <td>1932</td>\n",
       "      <td>48.300000</td>\n",
       "      <td>11529</td>\n",
       "      <td>288.225000</td>\n",
       "      <td>...</td>\n",
       "      <td>222</td>\n",
       "      <td>26</td>\n",
       "      <td>27</td>\n",
       "      <td>118</td>\n",
       "      <td>0</td>\n",
       "      <td>120</td>\n",
       "      <td>88</td>\n",
       "      <td>0</td>\n",
       "      <td>8</td>\n",
       "      <td>Benign</td>\n",
       "    </tr>\n",
       "    <tr>\n",
       "      <th>3</th>\n",
       "      <td>Benign</td>\n",
       "      <td>32</td>\n",
       "      <td>13</td>\n",
       "      <td>13.500000</td>\n",
       "      <td>0</td>\n",
       "      <td>264.281250</td>\n",
       "      <td>1445</td>\n",
       "      <td>45.156250</td>\n",
       "      <td>8457</td>\n",
       "      <td>264.281250</td>\n",
       "      <td>...</td>\n",
       "      <td>222</td>\n",
       "      <td>26</td>\n",
       "      <td>27</td>\n",
       "      <td>118</td>\n",
       "      <td>0</td>\n",
       "      <td>120</td>\n",
       "      <td>88</td>\n",
       "      <td>0</td>\n",
       "      <td>8</td>\n",
       "      <td>Benign</td>\n",
       "    </tr>\n",
       "    <tr>\n",
       "      <th>4</th>\n",
       "      <td>Benign</td>\n",
       "      <td>42</td>\n",
       "      <td>16</td>\n",
       "      <td>11.452381</td>\n",
       "      <td>0</td>\n",
       "      <td>281.333333</td>\n",
       "      <td>2067</td>\n",
       "      <td>49.214286</td>\n",
       "      <td>11816</td>\n",
       "      <td>281.333333</td>\n",
       "      <td>...</td>\n",
       "      <td>222</td>\n",
       "      <td>26</td>\n",
       "      <td>24</td>\n",
       "      <td>118</td>\n",
       "      <td>0</td>\n",
       "      <td>124</td>\n",
       "      <td>87</td>\n",
       "      <td>0</td>\n",
       "      <td>8</td>\n",
       "      <td>Benign</td>\n",
       "    </tr>\n",
       "    <tr>\n",
       "      <th>...</th>\n",
       "      <td>...</td>\n",
       "      <td>...</td>\n",
       "      <td>...</td>\n",
       "      <td>...</td>\n",
       "      <td>...</td>\n",
       "      <td>...</td>\n",
       "      <td>...</td>\n",
       "      <td>...</td>\n",
       "      <td>...</td>\n",
       "      <td>...</td>\n",
       "      <td>...</td>\n",
       "      <td>...</td>\n",
       "      <td>...</td>\n",
       "      <td>...</td>\n",
       "      <td>...</td>\n",
       "      <td>...</td>\n",
       "      <td>...</td>\n",
       "      <td>...</td>\n",
       "      <td>...</td>\n",
       "      <td>...</td>\n",
       "      <td>...</td>\n",
       "    </tr>\n",
       "    <tr>\n",
       "      <th>58591</th>\n",
       "      <td>Ransomware</td>\n",
       "      <td>37</td>\n",
       "      <td>15</td>\n",
       "      <td>10.108108</td>\n",
       "      <td>0</td>\n",
       "      <td>215.486487</td>\n",
       "      <td>1453</td>\n",
       "      <td>39.270270</td>\n",
       "      <td>7973</td>\n",
       "      <td>215.486487</td>\n",
       "      <td>...</td>\n",
       "      <td>221</td>\n",
       "      <td>26</td>\n",
       "      <td>24</td>\n",
       "      <td>116</td>\n",
       "      <td>0</td>\n",
       "      <td>120</td>\n",
       "      <td>86</td>\n",
       "      <td>0</td>\n",
       "      <td>8</td>\n",
       "      <td>Malware</td>\n",
       "    </tr>\n",
       "    <tr>\n",
       "      <th>58592</th>\n",
       "      <td>Ransomware</td>\n",
       "      <td>37</td>\n",
       "      <td>14</td>\n",
       "      <td>9.945946</td>\n",
       "      <td>0</td>\n",
       "      <td>190.216216</td>\n",
       "      <td>1347</td>\n",
       "      <td>36.405405</td>\n",
       "      <td>7038</td>\n",
       "      <td>190.216216</td>\n",
       "      <td>...</td>\n",
       "      <td>221</td>\n",
       "      <td>26</td>\n",
       "      <td>24</td>\n",
       "      <td>116</td>\n",
       "      <td>0</td>\n",
       "      <td>116</td>\n",
       "      <td>88</td>\n",
       "      <td>0</td>\n",
       "      <td>8</td>\n",
       "      <td>Malware</td>\n",
       "    </tr>\n",
       "    <tr>\n",
       "      <th>58593</th>\n",
       "      <td>Ransomware</td>\n",
       "      <td>38</td>\n",
       "      <td>15</td>\n",
       "      <td>9.842105</td>\n",
       "      <td>0</td>\n",
       "      <td>210.026316</td>\n",
       "      <td>1448</td>\n",
       "      <td>38.105263</td>\n",
       "      <td>7982</td>\n",
       "      <td>215.729730</td>\n",
       "      <td>...</td>\n",
       "      <td>221</td>\n",
       "      <td>26</td>\n",
       "      <td>24</td>\n",
       "      <td>116</td>\n",
       "      <td>0</td>\n",
       "      <td>120</td>\n",
       "      <td>88</td>\n",
       "      <td>0</td>\n",
       "      <td>8</td>\n",
       "      <td>Malware</td>\n",
       "    </tr>\n",
       "    <tr>\n",
       "      <th>58594</th>\n",
       "      <td>Ransomware</td>\n",
       "      <td>37</td>\n",
       "      <td>15</td>\n",
       "      <td>10.243243</td>\n",
       "      <td>0</td>\n",
       "      <td>215.513513</td>\n",
       "      <td>1452</td>\n",
       "      <td>39.243243</td>\n",
       "      <td>7974</td>\n",
       "      <td>215.513513</td>\n",
       "      <td>...</td>\n",
       "      <td>221</td>\n",
       "      <td>26</td>\n",
       "      <td>24</td>\n",
       "      <td>116</td>\n",
       "      <td>0</td>\n",
       "      <td>120</td>\n",
       "      <td>87</td>\n",
       "      <td>0</td>\n",
       "      <td>8</td>\n",
       "      <td>Malware</td>\n",
       "    </tr>\n",
       "    <tr>\n",
       "      <th>58595</th>\n",
       "      <td>Ransomware</td>\n",
       "      <td>38</td>\n",
       "      <td>15</td>\n",
       "      <td>9.868421</td>\n",
       "      <td>0</td>\n",
       "      <td>213.026316</td>\n",
       "      <td>1487</td>\n",
       "      <td>39.131579</td>\n",
       "      <td>8095</td>\n",
       "      <td>213.026316</td>\n",
       "      <td>...</td>\n",
       "      <td>221</td>\n",
       "      <td>26</td>\n",
       "      <td>24</td>\n",
       "      <td>116</td>\n",
       "      <td>0</td>\n",
       "      <td>120</td>\n",
       "      <td>86</td>\n",
       "      <td>0</td>\n",
       "      <td>8</td>\n",
       "      <td>Malware</td>\n",
       "    </tr>\n",
       "  </tbody>\n",
       "</table>\n",
       "<p>58596 rows × 57 columns</p>\n",
       "</div>"
      ],
      "text/plain": [
       "         Category  pslist.nproc  pslist.nppid  pslist.avg_threads  \\\n",
       "0          Benign            45            17           10.555556   \n",
       "1          Benign            47            19           11.531915   \n",
       "2          Benign            40            14           14.725000   \n",
       "3          Benign            32            13           13.500000   \n",
       "4          Benign            42            16           11.452381   \n",
       "...           ...           ...           ...                 ...   \n",
       "58591  Ransomware            37            15           10.108108   \n",
       "58592  Ransomware            37            14            9.945946   \n",
       "58593  Ransomware            38            15            9.842105   \n",
       "58594  Ransomware            37            15           10.243243   \n",
       "58595  Ransomware            38            15            9.868421   \n",
       "\n",
       "       pslist.nprocs64bit  pslist.avg_handlers  dlllist.ndlls  \\\n",
       "0                       0           202.844444           1694   \n",
       "1                       0           242.234043           2074   \n",
       "2                       0           288.225000           1932   \n",
       "3                       0           264.281250           1445   \n",
       "4                       0           281.333333           2067   \n",
       "...                   ...                  ...            ...   \n",
       "58591                   0           215.486487           1453   \n",
       "58592                   0           190.216216           1347   \n",
       "58593                   0           210.026316           1448   \n",
       "58594                   0           215.513513           1452   \n",
       "58595                   0           213.026316           1487   \n",
       "\n",
       "       dlllist.avg_dlls_per_proc  handles.nhandles  \\\n",
       "0                      38.500000              9129   \n",
       "1                      44.127660             11385   \n",
       "2                      48.300000             11529   \n",
       "3                      45.156250              8457   \n",
       "4                      49.214286             11816   \n",
       "...                          ...               ...   \n",
       "58591                  39.270270              7973   \n",
       "58592                  36.405405              7038   \n",
       "58593                  38.105263              7982   \n",
       "58594                  39.243243              7974   \n",
       "58595                  39.131579              8095   \n",
       "\n",
       "       handles.avg_handles_per_proc  ...  svcscan.kernel_drivers  \\\n",
       "0                        212.302326  ...                     221   \n",
       "1                        242.234043  ...                     222   \n",
       "2                        288.225000  ...                     222   \n",
       "3                        264.281250  ...                     222   \n",
       "4                        281.333333  ...                     222   \n",
       "...                             ...  ...                     ...   \n",
       "58591                    215.486487  ...                     221   \n",
       "58592                    190.216216  ...                     221   \n",
       "58593                    215.729730  ...                     221   \n",
       "58594                    215.513513  ...                     221   \n",
       "58595                    213.026316  ...                     221   \n",
       "\n",
       "       svcscan.fs_drivers  svcscan.process_services  \\\n",
       "0                      26                        24   \n",
       "1                      26                        24   \n",
       "2                      26                        27   \n",
       "3                      26                        27   \n",
       "4                      26                        24   \n",
       "...                   ...                       ...   \n",
       "58591                  26                        24   \n",
       "58592                  26                        24   \n",
       "58593                  26                        24   \n",
       "58594                  26                        24   \n",
       "58595                  26                        24   \n",
       "\n",
       "       svcscan.shared_process_services  svcscan.interactive_process_services  \\\n",
       "0                                  116                                     0   \n",
       "1                                  118                                     0   \n",
       "2                                  118                                     0   \n",
       "3                                  118                                     0   \n",
       "4                                  118                                     0   \n",
       "...                                ...                                   ...   \n",
       "58591                              116                                     0   \n",
       "58592                              116                                     0   \n",
       "58593                              116                                     0   \n",
       "58594                              116                                     0   \n",
       "58595                              116                                     0   \n",
       "\n",
       "       svcscan.nactive  callbacks.ncallbacks  callbacks.nanonymous  \\\n",
       "0                  121                    87                     0   \n",
       "1                  122                    87                     0   \n",
       "2                  120                    88                     0   \n",
       "3                  120                    88                     0   \n",
       "4                  124                    87                     0   \n",
       "...                ...                   ...                   ...   \n",
       "58591              120                    86                     0   \n",
       "58592              116                    88                     0   \n",
       "58593              120                    88                     0   \n",
       "58594              120                    87                     0   \n",
       "58595              120                    86                     0   \n",
       "\n",
       "       callbacks.ngeneric    Class  \n",
       "0                       8   Benign  \n",
       "1                       8   Benign  \n",
       "2                       8   Benign  \n",
       "3                       8   Benign  \n",
       "4                       8   Benign  \n",
       "...                   ...      ...  \n",
       "58591                   8  Malware  \n",
       "58592                   8  Malware  \n",
       "58593                   8  Malware  \n",
       "58594                   8  Malware  \n",
       "58595                   8  Malware  \n",
       "\n",
       "[58596 rows x 57 columns]"
      ]
     },
     "execution_count": 5,
     "metadata": {},
     "output_type": "execute_result"
    }
   ],
   "source": [
    "malware_data"
   ]
  },
  {
   "cell_type": "code",
   "execution_count": 6,
   "metadata": {},
   "outputs": [
    {
     "data": {
      "text/plain": [
       "(58596, 57)"
      ]
     },
     "execution_count": 6,
     "metadata": {},
     "output_type": "execute_result"
    }
   ],
   "source": [
    "malware_data.shape"
   ]
  },
  {
   "cell_type": "code",
   "execution_count": 7,
   "metadata": {},
   "outputs": [
    {
     "name": "stdout",
     "output_type": "stream",
     "text": [
      "       pslist.nproc  pslist.nppid  pslist.avg_threads  pslist.nprocs64bit  \\\n",
      "count  58596.000000  58596.000000        58596.000000             58596.0   \n",
      "mean      41.394771     14.713837           11.341655                 0.0   \n",
      "std        5.777249      2.656748            1.588231                 0.0   \n",
      "min       21.000000      8.000000            1.650000                 0.0   \n",
      "25%       40.000000     12.000000            9.972973                 0.0   \n",
      "50%       41.000000     15.000000           11.000000                 0.0   \n",
      "75%       43.000000     16.000000           12.861955                 0.0   \n",
      "max      240.000000     72.000000           16.818182                 0.0   \n",
      "\n",
      "       pslist.avg_handlers  dlllist.ndlls  dlllist.avg_dlls_per_proc  \\\n",
      "count         58596.000000   58596.000000               58596.000000   \n",
      "mean            247.509819    1810.805447                  43.707806   \n",
      "std             111.857790     329.782639                   5.742023   \n",
      "min              34.962500     670.000000                   7.333333   \n",
      "25%             208.725000    1556.000000                  38.833333   \n",
      "50%             243.963710    1735.000000                  42.781524   \n",
      "75%             289.974322    2087.000000                  49.605280   \n",
      "max           24845.951220    3443.000000                  53.170732   \n",
      "\n",
      "       handles.nhandles  handles.avg_handles_per_proc  handles.nport  ...  \\\n",
      "count      5.859600e+04                  58596.000000        58596.0  ...   \n",
      "mean       1.025858e+04                    249.560958            0.0  ...   \n",
      "std        4.866864e+03                    145.999866            0.0  ...   \n",
      "min        3.514000e+03                     71.139241            0.0  ...   \n",
      "25%        8.393000e+03                    209.648228            0.0  ...   \n",
      "50%        9.287500e+03                    247.208951            0.0  ...   \n",
      "75%        1.219300e+04                    291.355050            0.0  ...   \n",
      "max        1.047310e+06                  33784.193550            0.0  ...   \n",
      "\n",
      "       svcscan.nservices  svcscan.kernel_drivers  svcscan.fs_drivers  \\\n",
      "count       58596.000000            58596.000000        58596.000000   \n",
      "mean          391.347549              221.406581           25.996245   \n",
      "std             4.529704                1.991087            0.170790   \n",
      "min            94.000000               55.000000            6.000000   \n",
      "25%           389.000000              221.000000           26.000000   \n",
      "50%           389.000000              221.000000           26.000000   \n",
      "75%           395.000000              222.000000           26.000000   \n",
      "max           395.000000              222.000000           26.000000   \n",
      "\n",
      "       svcscan.process_services  svcscan.shared_process_services  \\\n",
      "count              58596.000000                     58596.000000   \n",
      "mean                  25.063417                       116.879514   \n",
      "std                    1.529628                         1.550401   \n",
      "min                    7.000000                        26.000000   \n",
      "25%                   24.000000                       116.000000   \n",
      "50%                   24.000000                       116.000000   \n",
      "75%                   27.000000                       118.000000   \n",
      "max                   27.000000                       118.000000   \n",
      "\n",
      "       svcscan.interactive_process_services  svcscan.nactive  \\\n",
      "count                               58596.0     58596.000000   \n",
      "mean                                    0.0       121.995546   \n",
      "std                                     0.0         2.822858   \n",
      "min                                     0.0        30.000000   \n",
      "25%                                     0.0       121.000000   \n",
      "50%                                     0.0       122.000000   \n",
      "75%                                     0.0       123.000000   \n",
      "max                                     0.0       129.000000   \n",
      "\n",
      "       callbacks.ncallbacks  callbacks.nanonymous  callbacks.ngeneric  \n",
      "count          58596.000000          58596.000000        58596.000000  \n",
      "mean              86.905659              0.000853            7.999881  \n",
      "std                3.134117              0.029199            0.010929  \n",
      "min               50.000000              0.000000            7.000000  \n",
      "25%               87.000000              0.000000            8.000000  \n",
      "50%               87.000000              0.000000            8.000000  \n",
      "75%               88.000000              0.000000            8.000000  \n",
      "max               89.000000              1.000000            8.000000  \n",
      "\n",
      "[8 rows x 55 columns]\n"
     ]
    }
   ],
   "source": [
    "pprint.pprint(malware_data.describe())"
   ]
  },
  {
   "cell_type": "code",
   "execution_count": 8,
   "metadata": {},
   "outputs": [],
   "source": [
    "# Grab the target variable from the dataset\n",
    "Class = malware_data.Class\n",
    "Category = malware_data.Category"
   ]
  },
  {
   "cell_type": "code",
   "execution_count": 9,
   "metadata": {},
   "outputs": [
    {
     "data": {
      "text/plain": [
       "array([0, 1, 2, 3])"
      ]
     },
     "execution_count": 9,
     "metadata": {},
     "output_type": "execute_result"
    }
   ],
   "source": [
    "# Label encode the binary classification feature\n",
    "class_le = LabelEncoder()\n",
    "y = class_le.fit_transform(Category)\n",
    "# y = np.array(malware_data.Class)\n",
    "np.unique(y)"
   ]
  },
  {
   "cell_type": "code",
   "execution_count": 10,
   "metadata": {},
   "outputs": [
    {
     "data": {
      "text/plain": [
       "array([[45.        , 17.        , 10.55555556, ..., 87.        ,\n",
       "         0.        ,  8.        ],\n",
       "       [47.        , 19.        , 11.53191489, ..., 87.        ,\n",
       "         0.        ,  8.        ],\n",
       "       [40.        , 14.        , 14.725     , ..., 88.        ,\n",
       "         0.        ,  8.        ],\n",
       "       ...,\n",
       "       [38.        , 15.        ,  9.84210526, ..., 88.        ,\n",
       "         0.        ,  8.        ],\n",
       "       [37.        , 15.        , 10.24324324, ..., 87.        ,\n",
       "         0.        ,  8.        ],\n",
       "       [38.        , 15.        ,  9.86842105, ..., 86.        ,\n",
       "         0.        ,  8.        ]])"
      ]
     },
     "execution_count": 10,
     "metadata": {},
     "output_type": "execute_result"
    }
   ],
   "source": [
    "# Get all data except for the 'Class' label \n",
    "X = malware_data.drop(columns=['Class', 'Category'])\n",
    "X = X.values\n",
    "X"
   ]
  },
  {
   "cell_type": "code",
   "execution_count": 12,
   "metadata": {},
   "outputs": [],
   "source": [
    "scaler = StandardScaler()\n",
    "X_scaler = scaler.fit_transform(X)"
   ]
  },
  {
   "cell_type": "code",
   "execution_count": 13,
   "metadata": {},
   "outputs": [],
   "source": [
    "# Feature Selection \n",
    "select = SelectFromModel(estimator=RandomForestClassifier()).fit(X_scaler, y)\n"
   ]
  },
  {
   "cell_type": "code",
   "execution_count": 14,
   "metadata": {},
   "outputs": [
    {
     "name": "stdout",
     "output_type": "stream",
     "text": [
      "58596\n",
      "58596\n"
     ]
    }
   ],
   "source": [
    "# How many features were important in comparison to the number of features in the dataset\n",
    "print(len(select.transform(X)))\n",
    "print(len(X))"
   ]
  },
  {
   "cell_type": "code",
   "execution_count": 15,
   "metadata": {},
   "outputs": [
    {
     "data": {
      "text/plain": [
       "array([[0., 0., 0., ..., 0., 0., 0.],\n",
       "       [0., 0., 0., ..., 0., 0., 0.],\n",
       "       [0., 0., 0., ..., 0., 0., 0.],\n",
       "       ...,\n",
       "       [0., 0., 0., ..., 0., 0., 0.],\n",
       "       [0., 0., 0., ..., 0., 0., 0.],\n",
       "       [0., 0., 0., ..., 0., 0., 0.]])"
      ]
     },
     "execution_count": 15,
     "metadata": {},
     "output_type": "execute_result"
    }
   ],
   "source": [
    "# Skip this if you dropped the Category feature\n",
    "# One-Hot Encoding for the categorical data\n",
    "malware_ohe = OneHotEncoder()\n",
    "# malware_ohe.fit_transform(X[:, 0].reshape(-1,1)).toarray()\n",
    "malware_ohe.fit_transform(X[:, 0].reshape(-1,1)).toarray()"
   ]
  },
  {
   "cell_type": "code",
   "execution_count": null,
   "metadata": {},
   "outputs": [],
   "source": [
    "c_transform = ColumnTransformer([\n",
    "    ('onehot', OneHotEncoder(), [0])\n",
    "], remainder='passthrough')"
   ]
  },
  {
   "cell_type": "code",
   "execution_count": null,
   "metadata": {},
   "outputs": [],
   "source": [
    "X = c_transform.fit_transform(X).astype(float)"
   ]
  },
  {
   "cell_type": "code",
   "execution_count": 16,
   "metadata": {},
   "outputs": [
    {
     "data": {
      "text/plain": [
       "array([[45.        , 17.        , 10.55555556, ..., 87.        ,\n",
       "         0.        ,  8.        ],\n",
       "       [47.        , 19.        , 11.53191489, ..., 87.        ,\n",
       "         0.        ,  8.        ],\n",
       "       [40.        , 14.        , 14.725     , ..., 88.        ,\n",
       "         0.        ,  8.        ],\n",
       "       ...,\n",
       "       [38.        , 15.        ,  9.84210526, ..., 88.        ,\n",
       "         0.        ,  8.        ],\n",
       "       [37.        , 15.        , 10.24324324, ..., 87.        ,\n",
       "         0.        ,  8.        ],\n",
       "       [38.        , 15.        ,  9.86842105, ..., 86.        ,\n",
       "         0.        ,  8.        ]])"
      ]
     },
     "execution_count": 16,
     "metadata": {},
     "output_type": "execute_result"
    }
   ],
   "source": [
    "X"
   ]
  },
  {
   "cell_type": "code",
   "execution_count": 30,
   "metadata": {},
   "outputs": [],
   "source": [
    "X_train, X_test, y_train, y_test = train_test_split(X_scaler, y, test_size=0.3, random_state=0, stratify=y)"
   ]
  },
  {
   "cell_type": "code",
   "execution_count": 31,
   "metadata": {},
   "outputs": [
    {
     "name": "stdout",
     "output_type": "stream",
     "text": [
      "X_train shape: (41017, 55)\n",
      "y_train shape: (41017,)\n",
      "X_test shape: (17579, 55)\n",
      "y_test shape: (17579,)\n"
     ]
    }
   ],
   "source": [
    "print(f\"X_train shape: {X_train.shape}\")\n",
    "print(f\"y_train shape: {y_train.shape}\")\n",
    "print(f\"X_test shape: {X_test.shape}\")\n",
    "print(f\"y_test shape: {y_test.shape}\")"
   ]
  },
  {
   "cell_type": "code",
   "execution_count": 33,
   "metadata": {},
   "outputs": [
    {
     "data": {
      "text/html": [
       "<style>#sk-container-id-7 {color: black;background-color: white;}#sk-container-id-7 pre{padding: 0;}#sk-container-id-7 div.sk-toggleable {background-color: white;}#sk-container-id-7 label.sk-toggleable__label {cursor: pointer;display: block;width: 100%;margin-bottom: 0;padding: 0.3em;box-sizing: border-box;text-align: center;}#sk-container-id-7 label.sk-toggleable__label-arrow:before {content: \"▸\";float: left;margin-right: 0.25em;color: #696969;}#sk-container-id-7 label.sk-toggleable__label-arrow:hover:before {color: black;}#sk-container-id-7 div.sk-estimator:hover label.sk-toggleable__label-arrow:before {color: black;}#sk-container-id-7 div.sk-toggleable__content {max-height: 0;max-width: 0;overflow: hidden;text-align: left;background-color: #f0f8ff;}#sk-container-id-7 div.sk-toggleable__content pre {margin: 0.2em;color: black;border-radius: 0.25em;background-color: #f0f8ff;}#sk-container-id-7 input.sk-toggleable__control:checked~div.sk-toggleable__content {max-height: 200px;max-width: 100%;overflow: auto;}#sk-container-id-7 input.sk-toggleable__control:checked~label.sk-toggleable__label-arrow:before {content: \"▾\";}#sk-container-id-7 div.sk-estimator input.sk-toggleable__control:checked~label.sk-toggleable__label {background-color: #d4ebff;}#sk-container-id-7 div.sk-label input.sk-toggleable__control:checked~label.sk-toggleable__label {background-color: #d4ebff;}#sk-container-id-7 input.sk-hidden--visually {border: 0;clip: rect(1px 1px 1px 1px);clip: rect(1px, 1px, 1px, 1px);height: 1px;margin: -1px;overflow: hidden;padding: 0;position: absolute;width: 1px;}#sk-container-id-7 div.sk-estimator {font-family: monospace;background-color: #f0f8ff;border: 1px dotted black;border-radius: 0.25em;box-sizing: border-box;margin-bottom: 0.5em;}#sk-container-id-7 div.sk-estimator:hover {background-color: #d4ebff;}#sk-container-id-7 div.sk-parallel-item::after {content: \"\";width: 100%;border-bottom: 1px solid gray;flex-grow: 1;}#sk-container-id-7 div.sk-label:hover label.sk-toggleable__label {background-color: #d4ebff;}#sk-container-id-7 div.sk-serial::before {content: \"\";position: absolute;border-left: 1px solid gray;box-sizing: border-box;top: 0;bottom: 0;left: 50%;z-index: 0;}#sk-container-id-7 div.sk-serial {display: flex;flex-direction: column;align-items: center;background-color: white;padding-right: 0.2em;padding-left: 0.2em;position: relative;}#sk-container-id-7 div.sk-item {position: relative;z-index: 1;}#sk-container-id-7 div.sk-parallel {display: flex;align-items: stretch;justify-content: center;background-color: white;position: relative;}#sk-container-id-7 div.sk-item::before, #sk-container-id-7 div.sk-parallel-item::before {content: \"\";position: absolute;border-left: 1px solid gray;box-sizing: border-box;top: 0;bottom: 0;left: 50%;z-index: -1;}#sk-container-id-7 div.sk-parallel-item {display: flex;flex-direction: column;z-index: 1;position: relative;background-color: white;}#sk-container-id-7 div.sk-parallel-item:first-child::after {align-self: flex-end;width: 50%;}#sk-container-id-7 div.sk-parallel-item:last-child::after {align-self: flex-start;width: 50%;}#sk-container-id-7 div.sk-parallel-item:only-child::after {width: 0;}#sk-container-id-7 div.sk-dashed-wrapped {border: 1px dashed gray;margin: 0 0.4em 0.5em 0.4em;box-sizing: border-box;padding-bottom: 0.4em;background-color: white;}#sk-container-id-7 div.sk-label label {font-family: monospace;font-weight: bold;display: inline-block;line-height: 1.2em;}#sk-container-id-7 div.sk-label-container {text-align: center;}#sk-container-id-7 div.sk-container {/* jupyter's `normalize.less` sets `[hidden] { display: none; }` but bootstrap.min.css set `[hidden] { display: none !important; }` so we also need the `!important` here to be able to override the default hidden behavior on the sphinx rendered scikit-learn.org. See: https://github.com/scikit-learn/scikit-learn/issues/21755 */display: inline-block !important;position: relative;}#sk-container-id-7 div.sk-text-repr-fallback {display: none;}</style><div id=\"sk-container-id-7\" class=\"sk-top-container\"><div class=\"sk-text-repr-fallback\"><pre>RandomForestClassifier(n_estimators=57, random_state=42)</pre><b>In a Jupyter environment, please rerun this cell to show the HTML representation or trust the notebook. <br />On GitHub, the HTML representation is unable to render, please try loading this page with nbviewer.org.</b></div><div class=\"sk-container\" hidden><div class=\"sk-item\"><div class=\"sk-estimator sk-toggleable\"><input class=\"sk-toggleable__control sk-hidden--visually\" id=\"sk-estimator-id-7\" type=\"checkbox\" checked><label for=\"sk-estimator-id-7\" class=\"sk-toggleable__label sk-toggleable__label-arrow\">RandomForestClassifier</label><div class=\"sk-toggleable__content\"><pre>RandomForestClassifier(n_estimators=57, random_state=42)</pre></div></div></div></div></div>"
      ],
      "text/plain": [
       "RandomForestClassifier(n_estimators=57, random_state=42)"
      ]
     },
     "execution_count": 33,
     "metadata": {},
     "output_type": "execute_result"
    }
   ],
   "source": [
    "rf = RandomForestClassifier(n_estimators=malware_data.shape[1], random_state=42)\n",
    "clf = rf.fit(X_scaler,y)\n",
    "clf"
   ]
  },
  {
   "cell_type": "code",
   "execution_count": 29,
   "metadata": {},
   "outputs": [
    {
     "name": "stdout",
     "output_type": "stream",
     "text": [
      "Training accuracy: 0.9997805787844065\n",
      "Test accuracy: 0.9997724557710905\n"
     ]
    }
   ],
   "source": [
    "rf = RandomForestClassifier(n_estimators=malware_data.shape[1], random_state=42)\n",
    "clf = rf.fit(X_scaler,y)\n",
    "print('Training accuracy:', clf.score(X_train, y_train))\n",
    "print('Test accuracy:', clf.score(X_test, y_test))"
   ]
  },
  {
   "cell_type": "code",
   "execution_count": 34,
   "metadata": {},
   "outputs": [
    {
     "name": "stdout",
     "output_type": "stream",
     "text": [
      "Training accuracy: 0.9997805787844065\n",
      "Test accuracy: 0.9997724557710905\n"
     ]
    }
   ],
   "source": [
    "rf = RandomForestClassifier(n_estimators=malware_data.shape[1], random_state=42)\n",
    "clf = rf.fit(X,y)\n",
    "print('Training accuracy:', clf.score(X_train, y_train))\n",
    "print('Test accuracy:', clf.score(X_test, y_test))"
   ]
  },
  {
   "cell_type": "code",
   "execution_count": 14,
   "metadata": {},
   "outputs": [
    {
     "data": {
      "text/plain": [
       "array([[8790,    0,    0,    0],\n",
       "       [   0, 2936,    1,    0],\n",
       "       [   0,    1, 3005,    0],\n",
       "       [   0,    0,    2, 2844]])"
      ]
     },
     "execution_count": 14,
     "metadata": {},
     "output_type": "execute_result"
    }
   ],
   "source": [
    "y_pred = clf.predict(X_test)\n",
    "cm = confusion_matrix(y_test, y_pred)\n",
    "cm"
   ]
  },
  {
   "cell_type": "code",
   "execution_count": 15,
   "metadata": {},
   "outputs": [
    {
     "name": "stdout",
     "output_type": "stream",
     "text": [
      "              precision    recall  f1-score   support\n",
      "\n",
      "           0       1.00      1.00      1.00      8790\n",
      "           1       1.00      1.00      1.00      2937\n",
      "           2       1.00      1.00      1.00      3006\n",
      "           3       1.00      1.00      1.00      2846\n",
      "\n",
      "    accuracy                           1.00     17579\n",
      "   macro avg       1.00      1.00      1.00     17579\n",
      "weighted avg       1.00      1.00      1.00     17579\n",
      "\n"
     ]
    }
   ],
   "source": [
    "print(classification_report(y_test, y_pred))"
   ]
  },
  {
   "cell_type": "code",
   "execution_count": null,
   "metadata": {},
   "outputs": [],
   "source": []
  }
 ],
 "metadata": {
  "kernelspec": {
   "display_name": "malware_ml",
   "language": "python",
   "name": "python3"
  },
  "language_info": {
   "codemirror_mode": {
    "name": "ipython",
    "version": 3
   },
   "file_extension": ".py",
   "mimetype": "text/x-python",
   "name": "python",
   "nbconvert_exporter": "python",
   "pygments_lexer": "ipython3",
   "version": "3.11.0"
  }
 },
 "nbformat": 4,
 "nbformat_minor": 2
}
